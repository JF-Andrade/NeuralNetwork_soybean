{
 "cells": [
  {
   "cell_type": "code",
   "execution_count": 1,
   "metadata": {},
   "outputs": [],
   "source": [
    "# Packages\n",
    "\n",
    "import pandas as pd\n",
    "import numpy as np\n",
    "import matplotlib.pyplot as plt\n",
    "from sklearn.model_selection import train_test_split                                 # Split data between train and test\n",
    "from sklearn.metrics import confusion_matrix, ConfusionMatrixDisplay, accuracy_score # Create Confusion Matriz and it's visualization and calculate the accuracy score\n",
    "from keras import callbacks                                                          # Choose optimal number of epochs to train a neural network in Keras\n",
    "from keras.models import Sequential                                                  # keras: deep learning packages\n",
    "from keras.layers import Dense, Dropout                                              # Add Dense Layers in Network\n",
    "from sklearn.preprocessing import LabelEncoder, OneHotEncoder                        # label encoder\n",
    "from sklearn.compose import make_column_transformer                                  # Used with One Hot Encoder"
   ]
  },
  {
   "cell_type": "markdown",
   "metadata": {},
   "source": [
    "# ETL - extração, transformação e carregamento dos dados"
   ]
  },
  {
   "cell_type": "markdown",
   "metadata": {},
   "source": [
    "**Carrega base de dados**\n",
    "\n",
    "Base com características de sementes de soja e possíveis doenças que essas sementes podem ter.\n",
    "\n",
    "São 35 variáveis independentes qualitativas, de características, e a variável dependente, que comporta 19 possibilidades de doenças."
   ]
  },
  {
   "cell_type": "code",
   "execution_count": 2,
   "metadata": {},
   "outputs": [
    {
     "data": {
      "text/plain": [
       "(683, 36)"
      ]
     },
     "execution_count": 2,
     "metadata": {},
     "output_type": "execute_result"
    }
   ],
   "source": [
    "# Load database soybean.csv\n",
    "dataset = pd.read_csv('../dados/soybean.csv')\n",
    "dataset.shape"
   ]
  },
  {
   "cell_type": "code",
   "execution_count": 3,
   "metadata": {},
   "outputs": [
    {
     "data": {
      "text/html": [
       "<div>\n",
       "<style scoped>\n",
       "    .dataframe tbody tr th:only-of-type {\n",
       "        vertical-align: middle;\n",
       "    }\n",
       "\n",
       "    .dataframe tbody tr th {\n",
       "        vertical-align: top;\n",
       "    }\n",
       "\n",
       "    .dataframe thead th {\n",
       "        text-align: right;\n",
       "    }\n",
       "</style>\n",
       "<table border=\"1\" class=\"dataframe\">\n",
       "  <thead>\n",
       "    <tr style=\"text-align: right;\">\n",
       "      <th></th>\n",
       "      <th>date</th>\n",
       "      <th>plant-stand</th>\n",
       "      <th>precip</th>\n",
       "      <th>temp</th>\n",
       "      <th>hail</th>\n",
       "      <th>crop-hist</th>\n",
       "      <th>area-damaged</th>\n",
       "      <th>severity</th>\n",
       "      <th>seed-tmt</th>\n",
       "      <th>germination</th>\n",
       "      <th>...</th>\n",
       "      <th>sclerotia</th>\n",
       "      <th>fruit-pods</th>\n",
       "      <th>fruit-spots</th>\n",
       "      <th>seed</th>\n",
       "      <th>mold-growth</th>\n",
       "      <th>seed-discolor</th>\n",
       "      <th>seed-size</th>\n",
       "      <th>shriveling</th>\n",
       "      <th>roots</th>\n",
       "      <th>class</th>\n",
       "    </tr>\n",
       "  </thead>\n",
       "  <tbody>\n",
       "    <tr>\n",
       "      <th>0</th>\n",
       "      <td>october</td>\n",
       "      <td>normal</td>\n",
       "      <td>gt-norm</td>\n",
       "      <td>norm</td>\n",
       "      <td>yes</td>\n",
       "      <td>same-lst-yr</td>\n",
       "      <td>low-areas</td>\n",
       "      <td>pot-severe</td>\n",
       "      <td>none</td>\n",
       "      <td>90-100</td>\n",
       "      <td>...</td>\n",
       "      <td>absent</td>\n",
       "      <td>norm</td>\n",
       "      <td>dna</td>\n",
       "      <td>norm</td>\n",
       "      <td>absent</td>\n",
       "      <td>absent</td>\n",
       "      <td>norm</td>\n",
       "      <td>absent</td>\n",
       "      <td>norm</td>\n",
       "      <td>diaporthe-stem-canker</td>\n",
       "    </tr>\n",
       "    <tr>\n",
       "      <th>1</th>\n",
       "      <td>august</td>\n",
       "      <td>normal</td>\n",
       "      <td>gt-norm</td>\n",
       "      <td>norm</td>\n",
       "      <td>yes</td>\n",
       "      <td>same-lst-two-yrs</td>\n",
       "      <td>scattered</td>\n",
       "      <td>severe</td>\n",
       "      <td>fungicide</td>\n",
       "      <td>80-89</td>\n",
       "      <td>...</td>\n",
       "      <td>absent</td>\n",
       "      <td>norm</td>\n",
       "      <td>dna</td>\n",
       "      <td>norm</td>\n",
       "      <td>absent</td>\n",
       "      <td>absent</td>\n",
       "      <td>norm</td>\n",
       "      <td>absent</td>\n",
       "      <td>norm</td>\n",
       "      <td>diaporthe-stem-canker</td>\n",
       "    </tr>\n",
       "    <tr>\n",
       "      <th>2</th>\n",
       "      <td>july</td>\n",
       "      <td>normal</td>\n",
       "      <td>gt-norm</td>\n",
       "      <td>norm</td>\n",
       "      <td>yes</td>\n",
       "      <td>same-lst-yr</td>\n",
       "      <td>scattered</td>\n",
       "      <td>severe</td>\n",
       "      <td>fungicide</td>\n",
       "      <td>lt-80</td>\n",
       "      <td>...</td>\n",
       "      <td>absent</td>\n",
       "      <td>norm</td>\n",
       "      <td>dna</td>\n",
       "      <td>norm</td>\n",
       "      <td>absent</td>\n",
       "      <td>absent</td>\n",
       "      <td>norm</td>\n",
       "      <td>absent</td>\n",
       "      <td>norm</td>\n",
       "      <td>diaporthe-stem-canker</td>\n",
       "    </tr>\n",
       "    <tr>\n",
       "      <th>3</th>\n",
       "      <td>july</td>\n",
       "      <td>normal</td>\n",
       "      <td>gt-norm</td>\n",
       "      <td>norm</td>\n",
       "      <td>yes</td>\n",
       "      <td>same-lst-yr</td>\n",
       "      <td>scattered</td>\n",
       "      <td>severe</td>\n",
       "      <td>none</td>\n",
       "      <td>80-89</td>\n",
       "      <td>...</td>\n",
       "      <td>absent</td>\n",
       "      <td>norm</td>\n",
       "      <td>dna</td>\n",
       "      <td>norm</td>\n",
       "      <td>absent</td>\n",
       "      <td>absent</td>\n",
       "      <td>norm</td>\n",
       "      <td>absent</td>\n",
       "      <td>norm</td>\n",
       "      <td>diaporthe-stem-canker</td>\n",
       "    </tr>\n",
       "    <tr>\n",
       "      <th>4</th>\n",
       "      <td>october</td>\n",
       "      <td>normal</td>\n",
       "      <td>gt-norm</td>\n",
       "      <td>norm</td>\n",
       "      <td>yes</td>\n",
       "      <td>same-lst-two-yrs</td>\n",
       "      <td>scattered</td>\n",
       "      <td>pot-severe</td>\n",
       "      <td>none</td>\n",
       "      <td>lt-80</td>\n",
       "      <td>...</td>\n",
       "      <td>absent</td>\n",
       "      <td>norm</td>\n",
       "      <td>dna</td>\n",
       "      <td>norm</td>\n",
       "      <td>absent</td>\n",
       "      <td>absent</td>\n",
       "      <td>norm</td>\n",
       "      <td>absent</td>\n",
       "      <td>norm</td>\n",
       "      <td>diaporthe-stem-canker</td>\n",
       "    </tr>\n",
       "  </tbody>\n",
       "</table>\n",
       "<p>5 rows × 36 columns</p>\n",
       "</div>"
      ],
      "text/plain": [
       "      date plant-stand   precip  temp hail         crop-hist area-damaged  \\\n",
       "0  october      normal  gt-norm  norm  yes       same-lst-yr    low-areas   \n",
       "1   august      normal  gt-norm  norm  yes  same-lst-two-yrs    scattered   \n",
       "2     july      normal  gt-norm  norm  yes       same-lst-yr    scattered   \n",
       "3     july      normal  gt-norm  norm  yes       same-lst-yr    scattered   \n",
       "4  october      normal  gt-norm  norm  yes  same-lst-two-yrs    scattered   \n",
       "\n",
       "     severity   seed-tmt germination  ... sclerotia fruit-pods fruit-spots  \\\n",
       "0  pot-severe       none      90-100  ...    absent       norm         dna   \n",
       "1      severe  fungicide       80-89  ...    absent       norm         dna   \n",
       "2      severe  fungicide       lt-80  ...    absent       norm         dna   \n",
       "3      severe       none       80-89  ...    absent       norm         dna   \n",
       "4  pot-severe       none       lt-80  ...    absent       norm         dna   \n",
       "\n",
       "   seed mold-growth seed-discolor seed-size shriveling roots  \\\n",
       "0  norm      absent        absent      norm     absent  norm   \n",
       "1  norm      absent        absent      norm     absent  norm   \n",
       "2  norm      absent        absent      norm     absent  norm   \n",
       "3  norm      absent        absent      norm     absent  norm   \n",
       "4  norm      absent        absent      norm     absent  norm   \n",
       "\n",
       "                   class  \n",
       "0  diaporthe-stem-canker  \n",
       "1  diaporthe-stem-canker  \n",
       "2  diaporthe-stem-canker  \n",
       "3  diaporthe-stem-canker  \n",
       "4  diaporthe-stem-canker  \n",
       "\n",
       "[5 rows x 36 columns]"
      ]
     },
     "execution_count": 3,
     "metadata": {},
     "output_type": "execute_result"
    }
   ],
   "source": [
    "dataset.head()"
   ]
  },
  {
   "cell_type": "code",
   "execution_count": 4,
   "metadata": {},
   "outputs": [
    {
     "data": {
      "text/plain": [
       "date                             october\n",
       "plant-stand                       normal\n",
       "precip                           gt-norm\n",
       "temp                                norm\n",
       "hail                                 yes\n",
       "crop-hist                    same-lst-yr\n",
       "area-damaged                   low-areas\n",
       "severity                      pot-severe\n",
       "seed-tmt                            none\n",
       "germination                       90-100\n",
       "plant-growth                      abnorm\n",
       "leaves                            abnorm\n",
       "leafspots-halo                    absent\n",
       "leafspots-marg                       dna\n",
       "leafspot-size                        dna\n",
       "leaf-shread                       absent\n",
       "leaf-malf                         absent\n",
       "leaf-mild                         absent\n",
       "stem                              abnorm\n",
       "lodging                               no\n",
       "stem-cankers               above-sec-nde\n",
       "canker-lesion                      brown\n",
       "fruiting-bodies                  present\n",
       "external-decay              firm-and-dry\n",
       "mycelium                          absent\n",
       "int-discolor                        none\n",
       "sclerotia                         absent\n",
       "fruit-pods                          norm\n",
       "fruit-spots                          dna\n",
       "seed                                norm\n",
       "mold-growth                       absent\n",
       "seed-discolor                     absent\n",
       "seed-size                           norm\n",
       "shriveling                        absent\n",
       "roots                               norm\n",
       "class              diaporthe-stem-canker\n",
       "Name: 0, dtype: object"
      ]
     },
     "execution_count": 4,
     "metadata": {},
     "output_type": "execute_result"
    }
   ],
   "source": [
    "# Verificar entrada de cada coluna\n",
    "dataset.iloc[0,:]"
   ]
  },
  {
   "cell_type": "code",
   "execution_count": 5,
   "metadata": {},
   "outputs": [
    {
     "data": {
      "text/plain": [
       "Index(['date', 'plant-stand', 'precip', 'temp', 'hail', 'crop-hist',\n",
       "       'area-damaged', 'severity', 'seed-tmt', 'germination', 'plant-growth',\n",
       "       'leaves', 'leafspots-halo', 'leafspots-marg', 'leafspot-size',\n",
       "       'leaf-shread', 'leaf-malf', 'leaf-mild', 'stem', 'lodging',\n",
       "       'stem-cankers', 'canker-lesion', 'fruiting-bodies', 'external-decay',\n",
       "       'mycelium', 'int-discolor', 'sclerotia', 'fruit-pods', 'fruit-spots',\n",
       "       'seed', 'mold-growth', 'seed-discolor', 'seed-size', 'shriveling',\n",
       "       'roots'],\n",
       "      dtype='object')"
      ]
     },
     "execution_count": 5,
     "metadata": {},
     "output_type": "execute_result"
    }
   ],
   "source": [
    "# Nome das colunas\n",
    "#list(dataset.columns)\n",
    "column_names = dataset.columns[0:35] # EXCLUI COLUNA DA CLASSE\n",
    "column_names"
   ]
  },
  {
   "cell_type": "markdown",
   "metadata": {},
   "source": [
    "**Transformação (encoding) das variáveis qualitativas**\n",
    "\n",
    "Transforma em dummy pois não são categorias hierárquicas e já descarta a primeria dummy para evitar perfeita colinearidade"
   ]
  },
  {
   "cell_type": "code",
   "execution_count": 6,
   "metadata": {},
   "outputs": [
    {
     "data": {
      "text/html": [
       "<div>\n",
       "<style scoped>\n",
       "    .dataframe tbody tr th:only-of-type {\n",
       "        vertical-align: middle;\n",
       "    }\n",
       "\n",
       "    .dataframe tbody tr th {\n",
       "        vertical-align: top;\n",
       "    }\n",
       "\n",
       "    .dataframe thead th {\n",
       "        text-align: right;\n",
       "    }\n",
       "</style>\n",
       "<table border=\"1\" class=\"dataframe\">\n",
       "  <thead>\n",
       "    <tr style=\"text-align: right;\">\n",
       "      <th></th>\n",
       "      <th>class</th>\n",
       "      <th>date_april</th>\n",
       "      <th>date_august</th>\n",
       "      <th>date_july</th>\n",
       "      <th>date_june</th>\n",
       "      <th>date_may</th>\n",
       "      <th>date_october</th>\n",
       "      <th>date_september</th>\n",
       "      <th>plant-stand_lt-normal</th>\n",
       "      <th>plant-stand_normal</th>\n",
       "      <th>...</th>\n",
       "      <th>mold-growth_present</th>\n",
       "      <th>seed-discolor_absent</th>\n",
       "      <th>seed-discolor_present</th>\n",
       "      <th>seed-size_lt-norm</th>\n",
       "      <th>seed-size_norm</th>\n",
       "      <th>shriveling_absent</th>\n",
       "      <th>shriveling_present</th>\n",
       "      <th>roots_galls-cysts</th>\n",
       "      <th>roots_norm</th>\n",
       "      <th>roots_rotted</th>\n",
       "    </tr>\n",
       "  </thead>\n",
       "  <tbody>\n",
       "    <tr>\n",
       "      <th>0</th>\n",
       "      <td>diaporthe-stem-canker</td>\n",
       "      <td>0</td>\n",
       "      <td>0</td>\n",
       "      <td>0</td>\n",
       "      <td>0</td>\n",
       "      <td>0</td>\n",
       "      <td>1</td>\n",
       "      <td>0</td>\n",
       "      <td>0</td>\n",
       "      <td>1</td>\n",
       "      <td>...</td>\n",
       "      <td>0</td>\n",
       "      <td>1</td>\n",
       "      <td>0</td>\n",
       "      <td>0</td>\n",
       "      <td>1</td>\n",
       "      <td>1</td>\n",
       "      <td>0</td>\n",
       "      <td>0</td>\n",
       "      <td>1</td>\n",
       "      <td>0</td>\n",
       "    </tr>\n",
       "    <tr>\n",
       "      <th>1</th>\n",
       "      <td>diaporthe-stem-canker</td>\n",
       "      <td>0</td>\n",
       "      <td>1</td>\n",
       "      <td>0</td>\n",
       "      <td>0</td>\n",
       "      <td>0</td>\n",
       "      <td>0</td>\n",
       "      <td>0</td>\n",
       "      <td>0</td>\n",
       "      <td>1</td>\n",
       "      <td>...</td>\n",
       "      <td>0</td>\n",
       "      <td>1</td>\n",
       "      <td>0</td>\n",
       "      <td>0</td>\n",
       "      <td>1</td>\n",
       "      <td>1</td>\n",
       "      <td>0</td>\n",
       "      <td>0</td>\n",
       "      <td>1</td>\n",
       "      <td>0</td>\n",
       "    </tr>\n",
       "    <tr>\n",
       "      <th>2</th>\n",
       "      <td>diaporthe-stem-canker</td>\n",
       "      <td>0</td>\n",
       "      <td>0</td>\n",
       "      <td>1</td>\n",
       "      <td>0</td>\n",
       "      <td>0</td>\n",
       "      <td>0</td>\n",
       "      <td>0</td>\n",
       "      <td>0</td>\n",
       "      <td>1</td>\n",
       "      <td>...</td>\n",
       "      <td>0</td>\n",
       "      <td>1</td>\n",
       "      <td>0</td>\n",
       "      <td>0</td>\n",
       "      <td>1</td>\n",
       "      <td>1</td>\n",
       "      <td>0</td>\n",
       "      <td>0</td>\n",
       "      <td>1</td>\n",
       "      <td>0</td>\n",
       "    </tr>\n",
       "    <tr>\n",
       "      <th>3</th>\n",
       "      <td>diaporthe-stem-canker</td>\n",
       "      <td>0</td>\n",
       "      <td>0</td>\n",
       "      <td>1</td>\n",
       "      <td>0</td>\n",
       "      <td>0</td>\n",
       "      <td>0</td>\n",
       "      <td>0</td>\n",
       "      <td>0</td>\n",
       "      <td>1</td>\n",
       "      <td>...</td>\n",
       "      <td>0</td>\n",
       "      <td>1</td>\n",
       "      <td>0</td>\n",
       "      <td>0</td>\n",
       "      <td>1</td>\n",
       "      <td>1</td>\n",
       "      <td>0</td>\n",
       "      <td>0</td>\n",
       "      <td>1</td>\n",
       "      <td>0</td>\n",
       "    </tr>\n",
       "    <tr>\n",
       "      <th>4</th>\n",
       "      <td>diaporthe-stem-canker</td>\n",
       "      <td>0</td>\n",
       "      <td>0</td>\n",
       "      <td>0</td>\n",
       "      <td>0</td>\n",
       "      <td>0</td>\n",
       "      <td>1</td>\n",
       "      <td>0</td>\n",
       "      <td>0</td>\n",
       "      <td>1</td>\n",
       "      <td>...</td>\n",
       "      <td>0</td>\n",
       "      <td>1</td>\n",
       "      <td>0</td>\n",
       "      <td>0</td>\n",
       "      <td>1</td>\n",
       "      <td>1</td>\n",
       "      <td>0</td>\n",
       "      <td>0</td>\n",
       "      <td>1</td>\n",
       "      <td>0</td>\n",
       "    </tr>\n",
       "  </tbody>\n",
       "</table>\n",
       "<p>5 rows × 99 columns</p>\n",
       "</div>"
      ],
      "text/plain": [
       "                   class  date_april  date_august  date_july  date_june  \\\n",
       "0  diaporthe-stem-canker           0            0          0          0   \n",
       "1  diaporthe-stem-canker           0            1          0          0   \n",
       "2  diaporthe-stem-canker           0            0          1          0   \n",
       "3  diaporthe-stem-canker           0            0          1          0   \n",
       "4  diaporthe-stem-canker           0            0          0          0   \n",
       "\n",
       "   date_may  date_october  date_september  plant-stand_lt-normal  \\\n",
       "0         0             1               0                      0   \n",
       "1         0             0               0                      0   \n",
       "2         0             0               0                      0   \n",
       "3         0             0               0                      0   \n",
       "4         0             1               0                      0   \n",
       "\n",
       "   plant-stand_normal  ...  mold-growth_present  seed-discolor_absent  \\\n",
       "0                   1  ...                    0                     1   \n",
       "1                   1  ...                    0                     1   \n",
       "2                   1  ...                    0                     1   \n",
       "3                   1  ...                    0                     1   \n",
       "4                   1  ...                    0                     1   \n",
       "\n",
       "   seed-discolor_present  seed-size_lt-norm  seed-size_norm  \\\n",
       "0                      0                  0               1   \n",
       "1                      0                  0               1   \n",
       "2                      0                  0               1   \n",
       "3                      0                  0               1   \n",
       "4                      0                  0               1   \n",
       "\n",
       "   shriveling_absent  shriveling_present  roots_galls-cysts  roots_norm  \\\n",
       "0                  1                   0                  0           1   \n",
       "1                  1                   0                  0           1   \n",
       "2                  1                   0                  0           1   \n",
       "3                  1                   0                  0           1   \n",
       "4                  1                   0                  0           1   \n",
       "\n",
       "   roots_rotted  \n",
       "0             0  \n",
       "1             0  \n",
       "2             0  \n",
       "3             0  \n",
       "4             0  \n",
       "\n",
       "[5 rows x 99 columns]"
      ]
     },
     "execution_count": 6,
     "metadata": {},
     "output_type": "execute_result"
    }
   ],
   "source": [
    "dataset2 = pd.get_dummies(dataset, columns=column_names, drop_first=True)\n",
    "dataset2.head()"
   ]
  },
  {
   "cell_type": "code",
   "execution_count": 7,
   "metadata": {},
   "outputs": [],
   "source": [
    "# Lista de colunas\n",
    "#list(dataset2.columns)"
   ]
  },
  {
   "cell_type": "code",
   "execution_count": 8,
   "metadata": {},
   "outputs": [
    {
     "data": {
      "text/plain": [
       "(683, 99)"
      ]
     },
     "execution_count": 8,
     "metadata": {},
     "output_type": "execute_result"
    }
   ],
   "source": [
    "dataset2.shape"
   ]
  },
  {
   "cell_type": "markdown",
   "metadata": {},
   "source": [
    "**Divide base em variáveis independentes (X) e dependente (Y)**"
   ]
  },
  {
   "cell_type": "code",
   "execution_count": 9,
   "metadata": {},
   "outputs": [
    {
     "data": {
      "text/plain": [
       "98"
      ]
     },
     "execution_count": 9,
     "metadata": {},
     "output_type": "execute_result"
    }
   ],
   "source": [
    "# divide variáveis independentes (previsores - X) e variável dependente (classe - Y)\n",
    "X = dataset2.loc[:,~dataset2.columns.str.contains('class')].values # ~dataset2.columns.str.contains('class') seleciona todas as colunas que NÃO contêm 'class_' no nome\n",
    "Y = dataset2.loc[:,dataset2.columns.str.contains('class')].values  # dataset2.columns.str.contains('class') seleciona todas as colunas que CONTÊM 'class_' no nome\n",
    "#X.shape\n",
    "len(X[0]) # lenght das colunas de X"
   ]
  },
  {
   "cell_type": "code",
   "execution_count": 10,
   "metadata": {},
   "outputs": [
    {
     "data": {
      "text/plain": [
       "(683, 1)"
      ]
     },
     "execution_count": 10,
     "metadata": {},
     "output_type": "execute_result"
    }
   ],
   "source": [
    "Y.shape"
   ]
  },
  {
   "cell_type": "markdown",
   "metadata": {},
   "source": [
    "**Transforma variável dependente (class) em dummies**"
   ]
  },
  {
   "cell_type": "code",
   "execution_count": 11,
   "metadata": {},
   "outputs": [
    {
     "data": {
      "text/plain": [
       "(683, 19)"
      ]
     },
     "execution_count": 11,
     "metadata": {},
     "output_type": "execute_result"
    }
   ],
   "source": [
    "# one hot encoder\n",
    "# deve adicionar 19 colunas, pois a classe tem 19 possibilidades de entrada\n",
    "onehotencoder = make_column_transformer((OneHotEncoder(categories='auto', sparse=False), [0]), remainder=\"passthrough\")\n",
    "Y = onehotencoder.fit_transform(Y)\n",
    "Y.shape"
   ]
  },
  {
   "cell_type": "markdown",
   "metadata": {},
   "source": [
    "**Divide base entre treino e teste (80-20)**"
   ]
  },
  {
   "cell_type": "code",
   "execution_count": 12,
   "metadata": {},
   "outputs": [
    {
     "name": "stdout",
     "output_type": "stream",
     "text": [
      "546 137 546 137\n"
     ]
    }
   ],
   "source": [
    "#separação em treino e teste (80-20)\n",
    "X_train, X_test, Y_train, Y_test = train_test_split(X, Y, test_size = 0.2, random_state = 0)\n",
    "print(len(X_train),len(X_test),len(Y_train),len(Y_test)) # verificar a divisão"
   ]
  },
  {
   "cell_type": "markdown",
   "metadata": {},
   "source": [
    "# Rede Neural"
   ]
  },
  {
   "cell_type": "markdown",
   "metadata": {},
   "source": [
    "**Criando Estrutura**\n",
    "\n",
    "Função de ativação define a forma de propagação de um parâmetro pela rede.\n",
    "\n",
    "Função de ativação \"ReLU\": Applies the rectified linear unit activation function.\n",
    "Parâmetros > 0 mantém seu valor na próxima camada. Já parâmetros < 0 são transmitidos como 0.\n",
    "Como todas as variáveis são binárias, sempre vai transmitir o valor original.\n",
    "\n",
    "Função de ativação \"softmax\": converts a real vector to a vector of categorical probabilities.\n",
    "Retorna a probabilidade de uma entrada (uma linha ou um indivíduo) pertencer a cada classe."
   ]
  },
  {
   "cell_type": "code",
   "execution_count": 13,
   "metadata": {},
   "outputs": [
    {
     "name": "stdout",
     "output_type": "stream",
     "text": [
      "Model: \"sequential\"\n",
      "_________________________________________________________________\n",
      "Layer (type)                 Output Shape              Param #   \n",
      "=================================================================\n",
      "dense (Dense)                (None, 16)                1584      \n",
      "_________________________________________________________________\n",
      "dropout (Dropout)            (None, 16)                0         \n",
      "_________________________________________________________________\n",
      "dense_1 (Dense)              (None, 16)                272       \n",
      "_________________________________________________________________\n",
      "dropout_1 (Dropout)          (None, 16)                0         \n",
      "_________________________________________________________________\n",
      "dense_2 (Dense)              (None, 16)                272       \n",
      "_________________________________________________________________\n",
      "dropout_2 (Dropout)          (None, 16)                0         \n",
      "_________________________________________________________________\n",
      "dense_3 (Dense)              (None, 19)                323       \n",
      "=================================================================\n",
      "Total params: 2,451\n",
      "Trainable params: 2,451\n",
      "Non-trainable params: 0\n",
      "_________________________________________________________________\n"
     ]
    }
   ],
   "source": [
    "modelo = Sequential()\n",
    "modelo.add(Dense(units = 16, activation = 'relu', input_dim = len(X[0]))) # \"relu\": Applies the rectified linear unit activation function.\n",
    "modelo.add(Dropout(0.1)) # transforma em 0 uma porcentagem dos links entre camadas, a fim de evitar overfitting.\n",
    "modelo.add(Dense(units = 16, activation = 'relu'))\n",
    "modelo.add(Dropout(0.1))\n",
    "modelo.add(Dense(units = 16, activation = 'relu'))\n",
    "modelo.add(Dropout(0.1))\n",
    "# camada de saida, softmax probabilidade, com 10 possibilidades de caracteres diferentes\n",
    "# Softmax converts a real vector to a vector of categorical probabilities.\n",
    "modelo.add(Dense(units = 19, activation = 'softmax'))\n",
    "\n",
    "modelo.summary()"
   ]
  },
  {
   "cell_type": "markdown",
   "metadata": {},
   "source": [
    "**Compilando o Modelo**\n",
    "\n",
    "Utilizando otimizador estocástico \"Adam\".\n",
    "\n",
    "\"Adam optimization is a stochastic gradient descent method that is based on adaptive estimation of first-order and second-order moments.\" (https://keras.io/api/optimizers/adam/)\n",
    "\n",
    "loss = 'categorical_crossentropy' - \n",
    "\"Use this crossentropy loss function when there are two or more label classes. We expect labels to be provided in a one_hot representation\", como é o caso em questão. (https://keras.io/api/losses/probabilistic_losses/#categoricalcrossentropy-class)"
   ]
  },
  {
   "cell_type": "code",
   "execution_count": 14,
   "metadata": {},
   "outputs": [],
   "source": [
    "# Compilando o modelo\n",
    "# Configuração dos parâmetros da rede neural (adam = algoritmo para otimizar os pesos das variáveis independentes; categorical_crossentropy = forma de cálculo do erro)\n",
    "modelo.compile(optimizer = 'adam', loss = 'categorical_crossentropy',\n",
    "               metrics = ['accuracy'])  # corresponde à taxa de acerto"
   ]
  },
  {
   "cell_type": "markdown",
   "metadata": {},
   "source": [
    "**Treinando o Modelo**\n",
    "\n",
    "Utiliza-se a função EarlyStopping monitorando o loss nos dados de validação a fim de escolher um número ótimo de epochs.\n",
    "\n",
    "Referência: https://www.geeksforgeeks.org/choose-optimal-number-of-epochs-to-train-a-neural-network-in-keras/#:~:text=Therefore%2C%20the%20optimal%20number%20of,values%20against%20number%20of%20epochs"
   ]
  },
  {
   "cell_type": "code",
   "execution_count": 15,
   "metadata": {},
   "outputs": [
    {
     "name": "stdout",
     "output_type": "stream",
     "text": [
      "Epoch 1/1000\n",
      "18/18 [==============================] - 2s 62ms/step - loss: 3.0096 - accuracy: 0.0671 - val_loss: 2.8257 - val_accuracy: 0.1898\n",
      "Epoch 2/1000\n",
      "18/18 [==============================] - 0s 4ms/step - loss: 2.8188 - accuracy: 0.1543 - val_loss: 2.6974 - val_accuracy: 0.3139\n",
      "Epoch 3/1000\n",
      "18/18 [==============================] - 0s 4ms/step - loss: 2.6751 - accuracy: 0.2361 - val_loss: 2.5305 - val_accuracy: 0.3139\n",
      "Epoch 4/1000\n",
      "18/18 [==============================] - 0s 4ms/step - loss: 2.5164 - accuracy: 0.2470 - val_loss: 2.3429 - val_accuracy: 0.2993\n",
      "Epoch 5/1000\n",
      "18/18 [==============================] - 0s 3ms/step - loss: 2.2860 - accuracy: 0.2936 - val_loss: 2.1896 - val_accuracy: 0.3358\n",
      "Epoch 6/1000\n",
      "18/18 [==============================] - 0s 5ms/step - loss: 2.2799 - accuracy: 0.2756 - val_loss: 2.0868 - val_accuracy: 0.3796\n",
      "Epoch 7/1000\n",
      "18/18 [==============================] - 0s 4ms/step - loss: 2.1996 - accuracy: 0.2885 - val_loss: 2.0062 - val_accuracy: 0.4088\n",
      "Epoch 8/1000\n",
      "18/18 [==============================] - 0s 4ms/step - loss: 2.1431 - accuracy: 0.3046 - val_loss: 1.9355 - val_accuracy: 0.4161\n",
      "Epoch 9/1000\n",
      "18/18 [==============================] - 0s 3ms/step - loss: 1.9389 - accuracy: 0.3533 - val_loss: 1.8421 - val_accuracy: 0.4161\n",
      "Epoch 10/1000\n",
      "18/18 [==============================] - 0s 3ms/step - loss: 1.9335 - accuracy: 0.3457 - val_loss: 1.7679 - val_accuracy: 0.4599\n",
      "Epoch 11/1000\n",
      "18/18 [==============================] - 0s 4ms/step - loss: 1.8059 - accuracy: 0.4235 - val_loss: 1.6908 - val_accuracy: 0.4891\n",
      "Epoch 12/1000\n",
      "18/18 [==============================] - 0s 4ms/step - loss: 1.7515 - accuracy: 0.4053 - val_loss: 1.6100 - val_accuracy: 0.5109\n",
      "Epoch 13/1000\n",
      "18/18 [==============================] - 0s 4ms/step - loss: 1.7426 - accuracy: 0.4355 - val_loss: 1.5338 - val_accuracy: 0.5182\n",
      "Epoch 14/1000\n",
      "18/18 [==============================] - 0s 4ms/step - loss: 1.7612 - accuracy: 0.4433 - val_loss: 1.4650 - val_accuracy: 0.5547\n",
      "Epoch 15/1000\n",
      "18/18 [==============================] - 0s 4ms/step - loss: 1.6512 - accuracy: 0.4388 - val_loss: 1.3946 - val_accuracy: 0.5985\n",
      "Epoch 16/1000\n",
      "18/18 [==============================] - 0s 5ms/step - loss: 1.5259 - accuracy: 0.5038 - val_loss: 1.3088 - val_accuracy: 0.6204\n",
      "Epoch 17/1000\n",
      "18/18 [==============================] - 0s 4ms/step - loss: 1.5809 - accuracy: 0.4571 - val_loss: 1.2225 - val_accuracy: 0.6277\n",
      "Epoch 18/1000\n",
      "18/18 [==============================] - 0s 3ms/step - loss: 1.4103 - accuracy: 0.5534 - val_loss: 1.1524 - val_accuracy: 0.6715\n",
      "Epoch 19/1000\n",
      "18/18 [==============================] - 0s 4ms/step - loss: 1.3421 - accuracy: 0.5685 - val_loss: 1.0659 - val_accuracy: 0.6715\n",
      "Epoch 20/1000\n",
      "18/18 [==============================] - 0s 4ms/step - loss: 1.2882 - accuracy: 0.5756 - val_loss: 1.0044 - val_accuracy: 0.6861\n",
      "Epoch 21/1000\n",
      "18/18 [==============================] - 0s 4ms/step - loss: 1.2448 - accuracy: 0.5795 - val_loss: 0.9568 - val_accuracy: 0.6861\n",
      "Epoch 22/1000\n",
      "18/18 [==============================] - 0s 4ms/step - loss: 1.1339 - accuracy: 0.6040 - val_loss: 0.8995 - val_accuracy: 0.6934\n",
      "Epoch 23/1000\n",
      "18/18 [==============================] - 0s 3ms/step - loss: 1.1309 - accuracy: 0.6298 - val_loss: 0.8813 - val_accuracy: 0.7007\n",
      "Epoch 24/1000\n",
      "18/18 [==============================] - 0s 4ms/step - loss: 1.0913 - accuracy: 0.6219 - val_loss: 0.8305 - val_accuracy: 0.7737\n",
      "Epoch 25/1000\n",
      "18/18 [==============================] - 0s 4ms/step - loss: 1.0790 - accuracy: 0.6287 - val_loss: 0.7837 - val_accuracy: 0.7591\n",
      "Epoch 26/1000\n",
      "18/18 [==============================] - 0s 4ms/step - loss: 0.9861 - accuracy: 0.6581 - val_loss: 0.7263 - val_accuracy: 0.7664\n",
      "Epoch 27/1000\n",
      "18/18 [==============================] - 0s 4ms/step - loss: 0.9903 - accuracy: 0.6708 - val_loss: 0.7061 - val_accuracy: 0.8029\n",
      "Epoch 28/1000\n",
      "18/18 [==============================] - 0s 4ms/step - loss: 0.9918 - accuracy: 0.6895 - val_loss: 0.6790 - val_accuracy: 0.8394\n",
      "Epoch 29/1000\n",
      "18/18 [==============================] - 0s 4ms/step - loss: 0.9625 - accuracy: 0.6721 - val_loss: 0.6648 - val_accuracy: 0.8321\n",
      "Epoch 30/1000\n",
      "18/18 [==============================] - 0s 4ms/step - loss: 0.8449 - accuracy: 0.7176 - val_loss: 0.6515 - val_accuracy: 0.8613\n",
      "Epoch 31/1000\n",
      "18/18 [==============================] - 0s 4ms/step - loss: 0.9121 - accuracy: 0.7000 - val_loss: 0.6279 - val_accuracy: 0.8759\n",
      "Epoch 32/1000\n",
      "18/18 [==============================] - 0s 4ms/step - loss: 0.8855 - accuracy: 0.7154 - val_loss: 0.5839 - val_accuracy: 0.8832\n",
      "Epoch 33/1000\n",
      "18/18 [==============================] - 0s 4ms/step - loss: 0.8472 - accuracy: 0.7157 - val_loss: 0.5693 - val_accuracy: 0.8686\n",
      "Epoch 34/1000\n",
      "18/18 [==============================] - 0s 3ms/step - loss: 0.8363 - accuracy: 0.7353 - val_loss: 0.5360 - val_accuracy: 0.8905\n",
      "Epoch 35/1000\n",
      "18/18 [==============================] - 0s 4ms/step - loss: 0.7827 - accuracy: 0.7392 - val_loss: 0.5136 - val_accuracy: 0.8905\n",
      "Epoch 36/1000\n",
      "18/18 [==============================] - 0s 3ms/step - loss: 0.8154 - accuracy: 0.7575 - val_loss: 0.4998 - val_accuracy: 0.9051\n",
      "Epoch 37/1000\n",
      "18/18 [==============================] - 0s 4ms/step - loss: 0.7368 - accuracy: 0.7687 - val_loss: 0.4895 - val_accuracy: 0.8978\n",
      "Epoch 38/1000\n",
      "18/18 [==============================] - 0s 3ms/step - loss: 0.8010 - accuracy: 0.7407 - val_loss: 0.4601 - val_accuracy: 0.9051\n",
      "Epoch 39/1000\n",
      "18/18 [==============================] - 0s 3ms/step - loss: 0.7845 - accuracy: 0.7435 - val_loss: 0.4503 - val_accuracy: 0.9197\n",
      "Epoch 40/1000\n",
      "18/18 [==============================] - 0s 5ms/step - loss: 0.7221 - accuracy: 0.7505 - val_loss: 0.4536 - val_accuracy: 0.9051\n",
      "Epoch 41/1000\n",
      "18/18 [==============================] - 0s 3ms/step - loss: 0.6543 - accuracy: 0.7729 - val_loss: 0.4270 - val_accuracy: 0.9197\n",
      "Epoch 42/1000\n",
      "18/18 [==============================] - 0s 3ms/step - loss: 0.7390 - accuracy: 0.7494 - val_loss: 0.4147 - val_accuracy: 0.9124\n",
      "Epoch 43/1000\n",
      "18/18 [==============================] - 0s 3ms/step - loss: 0.7251 - accuracy: 0.7520 - val_loss: 0.4083 - val_accuracy: 0.9343\n",
      "Epoch 44/1000\n",
      "18/18 [==============================] - 0s 3ms/step - loss: 0.6101 - accuracy: 0.7928 - val_loss: 0.3927 - val_accuracy: 0.9270\n",
      "Epoch 45/1000\n",
      "18/18 [==============================] - 0s 4ms/step - loss: 0.6156 - accuracy: 0.7827 - val_loss: 0.3847 - val_accuracy: 0.9197\n",
      "Epoch 46/1000\n",
      "18/18 [==============================] - 0s 3ms/step - loss: 0.6128 - accuracy: 0.7952 - val_loss: 0.3803 - val_accuracy: 0.9270\n",
      "Epoch 47/1000\n",
      "18/18 [==============================] - 0s 3ms/step - loss: 0.5599 - accuracy: 0.8106 - val_loss: 0.3619 - val_accuracy: 0.9343\n",
      "Epoch 48/1000\n",
      "18/18 [==============================] - 0s 4ms/step - loss: 0.6373 - accuracy: 0.7710 - val_loss: 0.3534 - val_accuracy: 0.9343\n",
      "Epoch 49/1000\n",
      "18/18 [==============================] - 0s 3ms/step - loss: 0.5426 - accuracy: 0.8029 - val_loss: 0.3533 - val_accuracy: 0.9343\n",
      "Epoch 50/1000\n",
      "18/18 [==============================] - 0s 4ms/step - loss: 0.6018 - accuracy: 0.8090 - val_loss: 0.3353 - val_accuracy: 0.9416\n",
      "Epoch 51/1000\n",
      "18/18 [==============================] - 0s 5ms/step - loss: 0.7275 - accuracy: 0.7447 - val_loss: 0.3307 - val_accuracy: 0.9343\n",
      "Epoch 52/1000\n",
      "18/18 [==============================] - 0s 4ms/step - loss: 0.6168 - accuracy: 0.7962 - val_loss: 0.3321 - val_accuracy: 0.9270\n",
      "Epoch 53/1000\n",
      "18/18 [==============================] - 0s 3ms/step - loss: 0.5821 - accuracy: 0.8199 - val_loss: 0.3337 - val_accuracy: 0.9270\n",
      "Epoch 54/1000\n",
      "18/18 [==============================] - 0s 3ms/step - loss: 0.5453 - accuracy: 0.8204 - val_loss: 0.3127 - val_accuracy: 0.9416\n",
      "Epoch 55/1000\n",
      "18/18 [==============================] - 0s 3ms/step - loss: 0.5794 - accuracy: 0.8008 - val_loss: 0.3112 - val_accuracy: 0.9343\n",
      "Epoch 56/1000\n",
      "18/18 [==============================] - 0s 3ms/step - loss: 0.5861 - accuracy: 0.8154 - val_loss: 0.2920 - val_accuracy: 0.9489\n",
      "Epoch 57/1000\n",
      "18/18 [==============================] - 0s 3ms/step - loss: 0.6262 - accuracy: 0.8018 - val_loss: 0.2992 - val_accuracy: 0.9489\n",
      "Epoch 58/1000\n",
      "18/18 [==============================] - 0s 4ms/step - loss: 0.5496 - accuracy: 0.8164 - val_loss: 0.3044 - val_accuracy: 0.9343\n",
      "Epoch 59/1000\n",
      "18/18 [==============================] - 0s 3ms/step - loss: 0.5778 - accuracy: 0.7955 - val_loss: 0.2879 - val_accuracy: 0.9489\n",
      "Epoch 60/1000\n",
      "18/18 [==============================] - 0s 3ms/step - loss: 0.5815 - accuracy: 0.8027 - val_loss: 0.2877 - val_accuracy: 0.9489\n",
      "Epoch 61/1000\n",
      "18/18 [==============================] - 0s 3ms/step - loss: 0.5555 - accuracy: 0.8064 - val_loss: 0.2865 - val_accuracy: 0.9489\n",
      "Epoch 62/1000\n",
      "18/18 [==============================] - 0s 3ms/step - loss: 0.4976 - accuracy: 0.8437 - val_loss: 0.2873 - val_accuracy: 0.9489\n",
      "Epoch 63/1000\n",
      "18/18 [==============================] - 0s 3ms/step - loss: 0.5382 - accuracy: 0.7994 - val_loss: 0.2803 - val_accuracy: 0.9562\n",
      "Epoch 64/1000\n",
      "18/18 [==============================] - 0s 3ms/step - loss: 0.5398 - accuracy: 0.8016 - val_loss: 0.2751 - val_accuracy: 0.9416\n",
      "Epoch 65/1000\n",
      "18/18 [==============================] - 0s 3ms/step - loss: 0.5302 - accuracy: 0.8008 - val_loss: 0.2772 - val_accuracy: 0.9416\n",
      "Epoch 66/1000\n",
      "18/18 [==============================] - 0s 4ms/step - loss: 0.5317 - accuracy: 0.8083 - val_loss: 0.2690 - val_accuracy: 0.9562\n",
      "Epoch 67/1000\n",
      "18/18 [==============================] - 0s 3ms/step - loss: 0.5289 - accuracy: 0.8155 - val_loss: 0.2559 - val_accuracy: 0.9635\n",
      "Epoch 68/1000\n",
      "18/18 [==============================] - 0s 4ms/step - loss: 0.5373 - accuracy: 0.7937 - val_loss: 0.2581 - val_accuracy: 0.9635\n",
      "Epoch 69/1000\n",
      "18/18 [==============================] - 0s 3ms/step - loss: 0.4689 - accuracy: 0.8406 - val_loss: 0.2667 - val_accuracy: 0.9635\n",
      "Epoch 70/1000\n",
      "18/18 [==============================] - 0s 3ms/step - loss: 0.5562 - accuracy: 0.8122 - val_loss: 0.2452 - val_accuracy: 0.9635\n",
      "Epoch 71/1000\n",
      "18/18 [==============================] - 0s 3ms/step - loss: 0.4231 - accuracy: 0.8646 - val_loss: 0.2414 - val_accuracy: 0.9708\n",
      "Epoch 72/1000\n",
      "18/18 [==============================] - 0s 3ms/step - loss: 0.4656 - accuracy: 0.8552 - val_loss: 0.2410 - val_accuracy: 0.9708\n",
      "Epoch 73/1000\n",
      "18/18 [==============================] - 0s 3ms/step - loss: 0.4562 - accuracy: 0.8337 - val_loss: 0.2475 - val_accuracy: 0.9635\n",
      "Epoch 74/1000\n",
      "18/18 [==============================] - 0s 3ms/step - loss: 0.4843 - accuracy: 0.8273 - val_loss: 0.2460 - val_accuracy: 0.9562\n",
      "Epoch 75/1000\n",
      "18/18 [==============================] - 0s 3ms/step - loss: 0.5000 - accuracy: 0.8396 - val_loss: 0.2366 - val_accuracy: 0.9635\n",
      "Epoch 76/1000\n",
      "18/18 [==============================] - 0s 3ms/step - loss: 0.3969 - accuracy: 0.8581 - val_loss: 0.2260 - val_accuracy: 0.9708\n",
      "Epoch 77/1000\n",
      "18/18 [==============================] - 0s 3ms/step - loss: 0.4746 - accuracy: 0.8492 - val_loss: 0.2186 - val_accuracy: 0.9708\n",
      "Epoch 78/1000\n",
      "18/18 [==============================] - 0s 4ms/step - loss: 0.4497 - accuracy: 0.8423 - val_loss: 0.2151 - val_accuracy: 0.9635\n",
      "Epoch 79/1000\n",
      "18/18 [==============================] - 0s 3ms/step - loss: 0.4953 - accuracy: 0.8251 - val_loss: 0.2306 - val_accuracy: 0.9562\n",
      "Epoch 80/1000\n",
      "18/18 [==============================] - 0s 3ms/step - loss: 0.3877 - accuracy: 0.8491 - val_loss: 0.2124 - val_accuracy: 0.9708\n",
      "Epoch 81/1000\n",
      "18/18 [==============================] - 0s 3ms/step - loss: 0.4889 - accuracy: 0.8238 - val_loss: 0.2170 - val_accuracy: 0.9708\n",
      "Epoch 82/1000\n",
      "18/18 [==============================] - 0s 3ms/step - loss: 0.4266 - accuracy: 0.8629 - val_loss: 0.2169 - val_accuracy: 0.9708\n",
      "Epoch 83/1000\n",
      "18/18 [==============================] - 0s 3ms/step - loss: 0.4813 - accuracy: 0.8148 - val_loss: 0.2331 - val_accuracy: 0.9635\n",
      "Epoch 84/1000\n",
      "18/18 [==============================] - 0s 3ms/step - loss: 0.4075 - accuracy: 0.8674 - val_loss: 0.2218 - val_accuracy: 0.9708\n",
      "Epoch 85/1000\n",
      "18/18 [==============================] - 0s 3ms/step - loss: 0.4452 - accuracy: 0.8202 - val_loss: 0.2151 - val_accuracy: 0.9708\n",
      "Epoch 86/1000\n",
      "18/18 [==============================] - 0s 3ms/step - loss: 0.3990 - accuracy: 0.8628 - val_loss: 0.2096 - val_accuracy: 0.9708\n",
      "Epoch 87/1000\n",
      "18/18 [==============================] - 0s 3ms/step - loss: 0.4505 - accuracy: 0.8268 - val_loss: 0.2077 - val_accuracy: 0.9708\n",
      "Epoch 88/1000\n",
      "18/18 [==============================] - 0s 3ms/step - loss: 0.4074 - accuracy: 0.8520 - val_loss: 0.1980 - val_accuracy: 0.9708\n",
      "Epoch 89/1000\n",
      "18/18 [==============================] - 0s 3ms/step - loss: 0.4733 - accuracy: 0.8211 - val_loss: 0.2059 - val_accuracy: 0.9635\n",
      "Epoch 90/1000\n",
      "18/18 [==============================] - 0s 3ms/step - loss: 0.4372 - accuracy: 0.8547 - val_loss: 0.2060 - val_accuracy: 0.9635\n",
      "Epoch 91/1000\n",
      "18/18 [==============================] - 0s 3ms/step - loss: 0.4717 - accuracy: 0.8187 - val_loss: 0.2015 - val_accuracy: 0.9708\n",
      "Epoch 92/1000\n",
      "18/18 [==============================] - 0s 3ms/step - loss: 0.4177 - accuracy: 0.8516 - val_loss: 0.2025 - val_accuracy: 0.9708\n",
      "Epoch 93/1000\n",
      "18/18 [==============================] - 0s 3ms/step - loss: 0.3671 - accuracy: 0.8769 - val_loss: 0.1997 - val_accuracy: 0.9708\n",
      "Epoch 94/1000\n",
      "18/18 [==============================] - 0s 3ms/step - loss: 0.3790 - accuracy: 0.8671 - val_loss: 0.1967 - val_accuracy: 0.9708\n",
      "Epoch 95/1000\n",
      "18/18 [==============================] - 0s 3ms/step - loss: 0.4648 - accuracy: 0.8528 - val_loss: 0.2030 - val_accuracy: 0.9708\n",
      "Epoch 96/1000\n",
      "18/18 [==============================] - 0s 3ms/step - loss: 0.3980 - accuracy: 0.8507 - val_loss: 0.1963 - val_accuracy: 0.9708\n",
      "Epoch 97/1000\n",
      "18/18 [==============================] - 0s 3ms/step - loss: 0.3551 - accuracy: 0.8872 - val_loss: 0.2000 - val_accuracy: 0.9708\n",
      "Epoch 98/1000\n",
      "18/18 [==============================] - 0s 3ms/step - loss: 0.4082 - accuracy: 0.8634 - val_loss: 0.1999 - val_accuracy: 0.9708\n",
      "Epoch 99/1000\n",
      "18/18 [==============================] - 0s 3ms/step - loss: 0.4222 - accuracy: 0.8314 - val_loss: 0.1995 - val_accuracy: 0.9708\n",
      "Epoch 100/1000\n",
      "18/18 [==============================] - 0s 3ms/step - loss: 0.3295 - accuracy: 0.8782 - val_loss: 0.1990 - val_accuracy: 0.9708\n",
      "Epoch 101/1000\n",
      "18/18 [==============================] - 0s 3ms/step - loss: 0.3870 - accuracy: 0.8814 - val_loss: 0.1944 - val_accuracy: 0.9635\n",
      "Epoch 102/1000\n",
      "18/18 [==============================] - 0s 3ms/step - loss: 0.3436 - accuracy: 0.8860 - val_loss: 0.1892 - val_accuracy: 0.9708\n",
      "Epoch 103/1000\n",
      "18/18 [==============================] - 0s 3ms/step - loss: 0.3729 - accuracy: 0.8779 - val_loss: 0.1912 - val_accuracy: 0.9708\n",
      "Epoch 104/1000\n",
      "18/18 [==============================] - 0s 3ms/step - loss: 0.3464 - accuracy: 0.8688 - val_loss: 0.1872 - val_accuracy: 0.9635\n",
      "Epoch 105/1000\n",
      "18/18 [==============================] - 0s 3ms/step - loss: 0.3228 - accuracy: 0.9074 - val_loss: 0.1873 - val_accuracy: 0.9708\n",
      "Epoch 106/1000\n",
      "18/18 [==============================] - 0s 3ms/step - loss: 0.3539 - accuracy: 0.8589 - val_loss: 0.1813 - val_accuracy: 0.9708\n",
      "Epoch 107/1000\n",
      "18/18 [==============================] - 0s 3ms/step - loss: 0.3714 - accuracy: 0.8539 - val_loss: 0.1883 - val_accuracy: 0.9708\n",
      "Epoch 108/1000\n",
      "18/18 [==============================] - 0s 3ms/step - loss: 0.4196 - accuracy: 0.8559 - val_loss: 0.1893 - val_accuracy: 0.9708\n",
      "Epoch 109/1000\n",
      "18/18 [==============================] - 0s 3ms/step - loss: 0.3610 - accuracy: 0.8696 - val_loss: 0.1982 - val_accuracy: 0.9708\n",
      "Epoch 110/1000\n",
      "18/18 [==============================] - 0s 3ms/step - loss: 0.3236 - accuracy: 0.8780 - val_loss: 0.2020 - val_accuracy: 0.9708\n",
      "Epoch 111/1000\n",
      "18/18 [==============================] - 0s 3ms/step - loss: 0.3390 - accuracy: 0.8778 - val_loss: 0.1884 - val_accuracy: 0.9708\n",
      "Epoch 112/1000\n",
      "18/18 [==============================] - 0s 3ms/step - loss: 0.3146 - accuracy: 0.8901 - val_loss: 0.1834 - val_accuracy: 0.9635\n",
      "Epoch 113/1000\n",
      "18/18 [==============================] - 0s 3ms/step - loss: 0.3289 - accuracy: 0.8888 - val_loss: 0.1798 - val_accuracy: 0.9708\n",
      "Epoch 114/1000\n",
      "18/18 [==============================] - 0s 3ms/step - loss: 0.3495 - accuracy: 0.8788 - val_loss: 0.1783 - val_accuracy: 0.9708\n",
      "Epoch 115/1000\n",
      "18/18 [==============================] - 0s 3ms/step - loss: 0.3195 - accuracy: 0.8695 - val_loss: 0.1814 - val_accuracy: 0.9635\n",
      "Epoch 116/1000\n",
      "18/18 [==============================] - 0s 3ms/step - loss: 0.3585 - accuracy: 0.8739 - val_loss: 0.1822 - val_accuracy: 0.9635\n",
      "Epoch 117/1000\n",
      "18/18 [==============================] - 0s 3ms/step - loss: 0.3915 - accuracy: 0.8487 - val_loss: 0.1844 - val_accuracy: 0.9708\n",
      "Epoch 118/1000\n",
      "18/18 [==============================] - 0s 3ms/step - loss: 0.3169 - accuracy: 0.8801 - val_loss: 0.1739 - val_accuracy: 0.9708\n",
      "Epoch 119/1000\n",
      "18/18 [==============================] - 0s 3ms/step - loss: 0.3646 - accuracy: 0.8731 - val_loss: 0.1810 - val_accuracy: 0.9708\n",
      "Epoch 120/1000\n",
      "18/18 [==============================] - 0s 3ms/step - loss: 0.3399 - accuracy: 0.8700 - val_loss: 0.1826 - val_accuracy: 0.9708\n",
      "Epoch 121/1000\n",
      "18/18 [==============================] - 0s 3ms/step - loss: 0.3454 - accuracy: 0.8916 - val_loss: 0.1864 - val_accuracy: 0.9635\n",
      "Epoch 122/1000\n",
      "18/18 [==============================] - 0s 3ms/step - loss: 0.3128 - accuracy: 0.9011 - val_loss: 0.1743 - val_accuracy: 0.9635\n",
      "Epoch 123/1000\n",
      "18/18 [==============================] - 0s 3ms/step - loss: 0.2972 - accuracy: 0.9022 - val_loss: 0.1846 - val_accuracy: 0.9635\n",
      "Epoch 124/1000\n",
      "18/18 [==============================] - 0s 3ms/step - loss: 0.3507 - accuracy: 0.8590 - val_loss: 0.1874 - val_accuracy: 0.9635\n",
      "Epoch 125/1000\n",
      "18/18 [==============================] - 0s 3ms/step - loss: 0.3438 - accuracy: 0.8754 - val_loss: 0.1921 - val_accuracy: 0.9708\n",
      "Epoch 126/1000\n",
      "18/18 [==============================] - 0s 3ms/step - loss: 0.3702 - accuracy: 0.8925 - val_loss: 0.1980 - val_accuracy: 0.9708\n",
      "Epoch 127/1000\n",
      "18/18 [==============================] - 0s 3ms/step - loss: 0.3724 - accuracy: 0.8799 - val_loss: 0.1827 - val_accuracy: 0.9708\n",
      "Epoch 128/1000\n",
      "18/18 [==============================] - 0s 3ms/step - loss: 0.2784 - accuracy: 0.9039 - val_loss: 0.1861 - val_accuracy: 0.9635\n"
     ]
    }
   ],
   "source": [
    "earlystopping = callbacks.EarlyStopping(monitor =\"val_loss\",  \n",
    "                                        mode =\"auto\", patience = 10,  \n",
    "                                        restore_best_weights = True)\n",
    "\n",
    "historico = modelo.fit(X_train, Y_train, epochs = 1000,\n",
    "          validation_data=(X_test, Y_test),\n",
    "          callbacks =[earlystopping])"
   ]
  },
  {
   "cell_type": "code",
   "execution_count": 16,
   "metadata": {},
   "outputs": [
    {
     "data": {
      "text/plain": [
       "array([[1.1632597e-05, 5.6984164e-03, 4.8121467e-05, ..., 6.0843704e-05,\n",
       "        6.7206049e-05, 3.2136984e-05],\n",
       "       [2.4859474e-13, 6.7489406e-13, 3.8581351e-08, ..., 6.1298880e-14,\n",
       "        9.5332292e-13, 2.7087461e-05],\n",
       "       [2.5304582e-02, 1.0679727e-09, 1.9705300e-07, ..., 6.3223542e-06,\n",
       "        8.7398139e-06, 2.0563222e-01],\n",
       "       ...,\n",
       "       [1.3516899e-06, 5.7379011e-04, 8.9610182e-03, ..., 1.4943306e-04,\n",
       "        9.8647332e-01, 5.1517488e-09],\n",
       "       [2.4334552e-04, 4.0094972e-11, 9.3891538e-07, ..., 3.0734645e-05,\n",
       "        5.5952870e-07, 8.4920700e-08],\n",
       "       [3.2235502e-07, 3.4149537e-08, 1.5615759e-11, ..., 1.9935917e-04,\n",
       "        1.0795333e-04, 2.4188624e-03]], dtype=float32)"
      ]
     },
     "execution_count": 16,
     "metadata": {},
     "output_type": "execute_result"
    }
   ],
   "source": [
    "Previsoes = modelo.predict(X_test)\n",
    "Previsoes"
   ]
  },
  {
   "cell_type": "code",
   "execution_count": 17,
   "metadata": {},
   "outputs": [
    {
     "data": {
      "text/plain": [
       "array([[0., 0., 0., ..., 0., 0., 0.],\n",
       "       [0., 0., 0., ..., 0., 0., 0.],\n",
       "       [0., 0., 0., ..., 0., 0., 0.],\n",
       "       ...,\n",
       "       [0., 0., 0., ..., 0., 1., 0.],\n",
       "       [0., 0., 0., ..., 0., 0., 0.],\n",
       "       [0., 0., 0., ..., 0., 0., 0.]])"
      ]
     },
     "execution_count": 17,
     "metadata": {},
     "output_type": "execute_result"
    }
   ],
   "source": [
    "Y_test"
   ]
  },
  {
   "cell_type": "code",
   "execution_count": 18,
   "metadata": {},
   "outputs": [],
   "source": [
    "Previsoes = [np.argmax(t) for t in Previsoes] # Returns the indices of the maximum values along an axis.\n",
    "#Previsoes"
   ]
  },
  {
   "cell_type": "code",
   "execution_count": 19,
   "metadata": {},
   "outputs": [],
   "source": [
    "Y_test = [np.argmax(t) for t in Y_test] # # Returns the indices of the maximum values along an axis.\n",
    "#Y_test"
   ]
  },
  {
   "cell_type": "code",
   "execution_count": 20,
   "metadata": {},
   "outputs": [
    {
     "data": {
      "text/plain": [
       "array([[ 2,  0,  0,  0,  0,  0,  0,  0,  0,  0,  0,  0,  0,  0,  0,  0,\n",
       "         0,  0],\n",
       "       [ 0, 19,  0,  0,  0,  0,  0,  0,  0,  0,  0,  0,  0,  0,  0,  0,\n",
       "         0,  0],\n",
       "       [ 0,  0, 11,  0,  0,  0,  0,  0,  0,  0,  0,  0,  0,  0,  0,  0,\n",
       "         0,  0],\n",
       "       [ 0,  0,  0,  4,  0,  0,  0,  0,  0,  0,  0,  0,  0,  0,  0,  0,\n",
       "         0,  0],\n",
       "       [ 0,  0,  0,  0,  5,  0,  0,  0,  0,  0,  0,  0,  0,  0,  0,  0,\n",
       "         0,  0],\n",
       "       [ 0,  0,  0,  0,  0, 19,  0,  0,  0,  0,  0,  0,  0,  0,  0,  0,\n",
       "         0,  0],\n",
       "       [ 0,  0,  0,  0,  0,  0,  9,  0,  0,  0,  0,  0,  0,  0,  0,  0,\n",
       "         0,  0],\n",
       "       [ 0,  0,  0,  0,  0,  0,  0,  6,  0,  0,  0,  0,  0,  0,  0,  0,\n",
       "         0,  0],\n",
       "       [ 0,  0,  0,  0,  0,  0,  0,  0,  3,  0,  0,  0,  0,  0,  0,  0,\n",
       "         0,  0],\n",
       "       [ 0,  0,  0,  0,  0,  0,  0,  0,  0,  1,  0,  0,  0,  0,  0,  0,\n",
       "         0,  0],\n",
       "       [ 0,  0,  0,  0,  0,  0,  0,  0,  0,  0,  6,  0,  0,  0,  0,  0,\n",
       "         0,  0],\n",
       "       [ 0,  0,  0,  0,  0,  0,  0,  0,  0,  0,  0,  4,  0,  0,  0,  0,\n",
       "         0,  0],\n",
       "       [ 0,  2,  1,  0,  0,  0,  0,  0,  0,  0,  0,  0, 11,  0,  0,  0,\n",
       "         0,  0],\n",
       "       [ 0,  0,  0,  0,  0,  0,  0,  0,  0,  0,  0,  0,  0,  1,  0,  0,\n",
       "         0,  0],\n",
       "       [ 0,  1,  0,  0,  0,  0,  0,  0,  0,  0,  0,  0,  0,  0,  4,  0,\n",
       "         0,  0],\n",
       "       [ 0,  0,  0,  0,  0,  0,  0,  0,  0,  0,  0,  0,  0,  0,  0, 20,\n",
       "         0,  0],\n",
       "       [ 0,  0,  0,  0,  0,  0,  0,  0,  0,  0,  0,  0,  0,  0,  0,  0,\n",
       "         3,  0],\n",
       "       [ 0,  0,  0,  0,  0,  0,  0,  0,  0,  0,  0,  0,  0,  0,  0,  0,\n",
       "         0,  5]], dtype=int64)"
      ]
     },
     "execution_count": 20,
     "metadata": {},
     "output_type": "execute_result"
    }
   ],
   "source": [
    "confusao = confusion_matrix(Y_test, Previsoes)\n",
    "confusao"
   ]
  },
  {
   "cell_type": "markdown",
   "metadata": {},
   "source": [
    "**Taxa de Acerto**"
   ]
  },
  {
   "cell_type": "code",
   "execution_count": 21,
   "metadata": {},
   "outputs": [
    {
     "data": {
      "text/plain": [
       "0.9708029197080292"
      ]
     },
     "execution_count": 21,
     "metadata": {},
     "output_type": "execute_result"
    }
   ],
   "source": [
    "#taxa acerto\n",
    "taxa_acerto = accuracy_score(Y_test, Previsoes)\n",
    "taxa_acerto"
   ]
  },
  {
   "cell_type": "markdown",
   "metadata": {},
   "source": [
    "**Visualizar Matriz de Confusão**"
   ]
  },
  {
   "cell_type": "code",
   "execution_count": 22,
   "metadata": {},
   "outputs": [
    {
     "data": {
      "text/plain": [
       "<sklearn.metrics._plot.confusion_matrix.ConfusionMatrixDisplay at 0x2dfaf07e6d0>"
      ]
     },
     "execution_count": 22,
     "metadata": {},
     "output_type": "execute_result"
    },
    {
     "data": {
      "image/png": "[encoded data removed]",
      "text/plain": [
       "<Figure size 432x288 with 2 Axes>"
      ]
     },
     "metadata": {
      "needs_background": "light"
     },
     "output_type": "display_data"
    }
   ],
   "source": [
    "cm = confusion_matrix(Y_test, Previsoes)\n",
    "disp = ConfusionMatrixDisplay(confusion_matrix=cm)\n",
    "disp.plot() "
   ]
  },
  {
   "cell_type": "code",
   "execution_count": 23,
   "metadata": {},
   "outputs": [
    {
     "data": {
      "text/plain": [
       "[<matplotlib.lines.Line2D at 0x2dfaf6c4fa0>]"
      ]
     },
     "execution_count": 23,
     "metadata": {},
     "output_type": "execute_result"
    },
    {
     "data": {
      "image/png": "[encoded data removed]",
      "text/plain": [
       "<Figure size 432x288 with 1 Axes>"
      ]
     },
     "metadata": {
      "needs_background": "light"
     },
     "output_type": "display_data"
    }
   ],
   "source": [
    "# Gráfico para visualizar os erros e accuracy\n",
    "historico.history.keys()\n",
    "#evolução do erro, azul\n",
    "plt.plot(historico.history['val_loss'])\n",
    "#performance da rede\n",
    "plt.plot(historico.history['val_accuracy'])"
   ]
  }
 ],
 "metadata": {
  "kernelspec": {
   "display_name": "Python 3",
   "language": "python",
   "name": "python3"
  },
  "language_info": {
   "codemirror_mode": {
    "name": "ipython",
    "version": 3
   },
   "file_extension": ".py",
   "mimetype": "text/x-python",
   "name": "python",
   "nbconvert_exporter": "python",
   "pygments_lexer": "ipython3",
   "version": "3.8.5"
  }
 },
 "nbformat": 4,
 "nbformat_minor": 4
}
